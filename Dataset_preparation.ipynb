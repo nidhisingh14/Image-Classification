{
 "cells": [
  {
   "cell_type": "code",
   "execution_count": 1,
   "id": "d4df5ccd-2f66-441c-a892-c6c8fc809538",
   "metadata": {},
   "outputs": [],
   "source": [
    "import os\n",
    "import shutil\n",
    "\n",
    "\n",
    "# folder path\n",
    "os.mkdir('./caltech_10_large/')\n",
    "os.mkdir('./caltech_10_large/train/')\n",
    "os.mkdir('./caltech_10_large/test/')\n",
    "os.mkdir('./caltech_10_large/valid/')\n",
    "\n",
    "# Iterate directory\n",
    "\n",
    "for path in os.listdir('./256_ObjectCategories/'):\n",
    "    count = 0\n",
    "    # print(path)\n",
    "    if path == \".DS_Store\":\n",
    "        continue\n",
    "    os.mkdir('./caltech_10_large/train/'+path)\n",
    "    os.mkdir('./caltech_10_large/test/'+path)\n",
    "    os.mkdir('./caltech_10_large/valid/'+path)\n",
    "    for path1 in os.listdir('./256_ObjectCategories/'+ path + '/'):\n",
    "        count += 1  \n",
    "    train = round((count * 80) / 100)\n",
    "    test = round((count * 10) / 100) + train \n",
    "    valid = round((count * 10) / 100) + test\n",
    "    count = 1\n",
    "    for path1 in os.listdir('./256_ObjectCategories/' + path + '/'):\n",
    "        if count <= train:\n",
    "            # print(\"./caltech_10/train/\"+path+\"/\"+path1)\n",
    "            # print(\"./256_ObjectCategories/\"+path+\"/\"+path1)\n",
    "            shutil.copy(\"./256_ObjectCategories/\"+path+\"/\"+path1, \"./caltech_10_large/train/\"+path+\"/\"+path1)\n",
    "        elif count > train and count <= test:\n",
    "            # print(\"./caltech_10/test/\"+path+\"/\"+path1)\n",
    "            # print(\"./256_ObjectCategories/\"+path+\"/\"+path1)\n",
    "            shutil.copy(\"./256_ObjectCategories/\"+path+\"/\"+path1, \"./caltech_10_large/test/\"+path+\"/\"+path1)\n",
    "        elif count > test and count <= valid:\n",
    "            # print(\"./caltech_10/valid/\"+path+\"/\"+path1)\n",
    "            # print(\"./256_ObjectCategories/\"+path+\"/\"+path1)\n",
    "            shutil.copy(\"./256_ObjectCategories/\"+path+\"/\"+path1, \"./caltech_10_large/valid/\"+path+\"/\"+path1)\n",
    "        else:\n",
    "            break\n",
    "        count += 1"
   ]
  },
  {
   "cell_type": "code",
   "execution_count": null,
   "id": "6cd486ea-c2bc-42e8-8156-e88fb21f4f59",
   "metadata": {},
   "outputs": [],
   "source": []
  }
 ],
 "metadata": {
  "kernelspec": {
   "display_name": "Python 3 (ipykernel)",
   "language": "python",
   "name": "python3"
  },
  "language_info": {
   "codemirror_mode": {
    "name": "ipython",
    "version": 3
   },
   "file_extension": ".py",
   "mimetype": "text/x-python",
   "name": "python",
   "nbconvert_exporter": "python",
   "pygments_lexer": "ipython3",
   "version": "3.9.12"
  }
 },
 "nbformat": 4,
 "nbformat_minor": 5
}
